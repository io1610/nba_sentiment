{
 "cells": [
  {
   "cell_type": "markdown",
   "id": "c52be1b1",
   "metadata": {},
   "source": [
    "# NBA Sentiment Analysis"
   ]
  },
  {
   "cell_type": "markdown",
   "id": "e9ad2509",
   "metadata": {},
   "source": [
    "## Run Coreference resolution for pronouns "
   ]
  },
  {
   "cell_type": "code",
   "execution_count": null,
   "id": "693dcab1",
   "metadata": {
    "scrolled": false
   },
   "outputs": [],
   "source": [
    "import datetime\n",
    "import importlib\n",
    "import pandas as pd\n",
    "\n",
    "import analyze_scores\n",
    "import data_manager as dm\n",
    "import dir_config_manager\n",
    "import criticism_nba\n",
    "import entity_generator\n",
    "import nba_schedule\n",
    "import nba_data\n",
    "import process_text\n",
    "import pronoun_rename\n",
    "import process_scores\n",
    "import sentiment_analysis\n",
    "import utils \n",
    "import you_pronoun \n",
    "\n",
    "\n",
    "dir_config = dir_config_manager.sample_dir_config\n",
    "\n",
    "if 'sample_nba_data2' not in dir_config['data_dir']:\n",
    "    dir_config = None\n",
    "print(dir_config)\n",
    "\n",
    "data_manager = dm.DataManager(dir_config=dir_config)\n"
   ]
  },
  {
   "cell_type": "code",
   "execution_count": null,
   "id": "e1437c0c",
   "metadata": {
    "scrolled": true
   },
   "outputs": [],
   "source": [
    "for round_num in range(1, 5):\n",
    "    pronoun_rename.split_and_save_data(data_manager, round_num, \n",
    "                                              is_clean_text=True, \n",
    "                                              max_num_comments=1000)"
   ]
  },
  {
   "cell_type": "code",
   "execution_count": null,
   "id": "0fb44dfa",
   "metadata": {},
   "outputs": [],
   "source": [
    "round_num = 4\n",
    "for round_num in range(1, 5):\n",
    "    num_splits = data_manager.num_text_splits(round_num, data_type='preprocessed')\n",
    "    for num_split in range(num_splits):\n",
    "        df_comments, df_submi = data_manager.load_split_data(round_num, num_split)\n",
    "        print(df_comments.shape, df_submi.shape)\n",
    "\n",
    "        df_processed_text = pronoun_rename.run_pronoun_coref(\n",
    "            df_comments, df_submi, data_manager, 200)\n",
    "        data_manager.save_coreference_text(df_processed_text, round_num, num_split, 'processed')\n",
    "        "
   ]
  },
  {
   "cell_type": "code",
   "execution_count": null,
   "id": "21a0a892",
   "metadata": {
    "scrolled": true
   },
   "outputs": [],
   "source": [
    "for round_num in range(1, 5):\n",
    "    df_processed_text = data_manager.load_processed_text(round_num)\n",
    "    print(df_processed_text.shape)"
   ]
  },
  {
   "cell_type": "markdown",
   "id": "2391106b",
   "metadata": {},
   "source": [
    "## Sentiment analysis"
   ]
  },
  {
   "cell_type": "code",
   "execution_count": null,
   "id": "879ff86a",
   "metadata": {},
   "outputs": [],
   "source": [
    "data_manager = dm.DataManager(dir_config=dir_config)"
   ]
  },
  {
   "cell_type": "code",
   "execution_count": null,
   "id": "6be2c8b5",
   "metadata": {
    "scrolled": true
   },
   "outputs": [],
   "source": [
    "for round_num in range(1, 5):\n",
    "    df_text = sentiment_analysis.create_sentiment_text(round_num, data_manager)\n",
    "    print(df_text.shape)\n",
    "    sentiment_analysis.split_and_save_sent_text_by_team(df_text, round_num, data_manager)\n"
   ]
  },
  {
   "cell_type": "code",
   "execution_count": null,
   "id": "56ce30de",
   "metadata": {},
   "outputs": [],
   "source": [
    "data_manager = dm.DataManager(dir_config=dir_config)"
   ]
  },
  {
   "cell_type": "code",
   "execution_count": null,
   "id": "f154c8b1",
   "metadata": {},
   "outputs": [],
   "source": [
    "for round_num in range(1, 5):\n",
    "    teams = utils.get_team_rounds(round_num)\n",
    "    \n",
    "    for team in teams:\n",
    "        df_text = data_manager.load_sentiment(round_num, team)\n",
    "        aspects = sentiment_analysis.get_aspects(team, data_manager)\n",
    "        print(round_num, df_text.shape)\n",
    "\n",
    "        df_all_scores = sentiment_analysis.score_aspect_sentiment(df_text, aspects)\n",
    "        data_manager.save_sentiment(df_all_scores, round_num, team, data_type='sent_score')\n",
    "        \n",
    "    "
   ]
  },
  {
   "cell_type": "code",
   "execution_count": null,
   "id": "c5b8cdec",
   "metadata": {},
   "outputs": [],
   "source": [
    "df_all_scores.shape"
   ]
  },
  {
   "cell_type": "markdown",
   "id": "072180d3",
   "metadata": {},
   "source": [
    "## Process and score 'You' pronoun"
   ]
  },
  {
   "cell_type": "code",
   "execution_count": null,
   "id": "bab31549",
   "metadata": {
    "scrolled": true
   },
   "outputs": [],
   "source": [
    "\n",
    "data_manager = dm.DataManager(dir_config=dir_config)\n",
    "you_pronoun.split_and_save_you_text(data_manager, max_num_comments=1000)\n",
    "\n"
   ]
  },
  {
   "cell_type": "code",
   "execution_count": null,
   "id": "2d8a9df7",
   "metadata": {},
   "outputs": [],
   "source": [
    "you_pronoun.run_coref_pronoun_you(data_manager, interval=256)"
   ]
  },
  {
   "cell_type": "code",
   "execution_count": null,
   "id": "7d1e9c3e",
   "metadata": {},
   "outputs": [],
   "source": [
    "data_manager = dm.DataManager(dir_config=dir_config)\n",
    "\n",
    "you_pronoun.get_sentiment_emma(data_manager)"
   ]
  },
  {
   "cell_type": "code",
   "execution_count": null,
   "id": "1580f61e",
   "metadata": {},
   "outputs": [],
   "source": []
  },
  {
   "cell_type": "markdown",
   "id": "efcc9d13",
   "metadata": {},
   "source": [
    "## Plot Results"
   ]
  },
  {
   "cell_type": "code",
   "execution_count": null,
   "id": "1cc6dc41",
   "metadata": {},
   "outputs": [],
   "source": [
    "data_manager = 0"
   ]
  },
  {
   "cell_type": "code",
   "execution_count": null,
   "id": "5c4e9039",
   "metadata": {},
   "outputs": [],
   "source": [
    "teams = [\n",
    "        'Pelicans', 'Jazz', 'Nuggets', 'Timberwolves',\n",
    "        'Hawks', 'Raptors', 'Bulls', 'Nets',\n",
    "        'Suns', 'Grizzlies', '76ers', 'Bucks',\n",
    "        'Mavericks', 'Heat', 'Warriors', 'Celtics']\n",
    "\n",
    "\n",
    "plot_data_manager = dm.DataManager()"
   ]
  },
  {
   "cell_type": "code",
   "execution_count": null,
   "id": "7947fb08",
   "metadata": {},
   "outputs": [],
   "source": [
    "df_all_comments = process_scores.get_all_comments(plot_data_manager, 4)"
   ]
  },
  {
   "cell_type": "code",
   "execution_count": null,
   "id": "e78e52d4",
   "metadata": {
    "scrolled": true
   },
   "outputs": [],
   "source": [
    "sentiment_dict = process_scores.get_sentiment_scores(plot_data_manager, teams, df_all_comments)\n",
    "df_sch = nba_schedule.getSchedule(2022)"
   ]
  },
  {
   "cell_type": "code",
   "execution_count": null,
   "id": "13b2c712",
   "metadata": {},
   "outputs": [],
   "source": [
    "analyze_scores.plot_cmp_pre_and_post_eli(teams, sentiment_dict, df_sch)\n"
   ]
  },
  {
   "cell_type": "code",
   "execution_count": null,
   "id": "28921ecb",
   "metadata": {},
   "outputs": [],
   "source": [
    "teams_opp_vs_non_opp = ['Suns', 'Grizzlies', '76ers', 'Bucks',\n",
    "             'Mavericks', 'Heat',  'Celtics', 'Warriors']\n",
    "analyze_scores.plot_opp_vs_non_opp(teams_opp_vs_non_opp, sentiment_dict, df_sch)"
   ]
  },
  {
   "cell_type": "code",
   "execution_count": null,
   "id": "b6978c07",
   "metadata": {},
   "outputs": [],
   "source": [
    "analyze_scores.get_most_negative_sent_player(teams, sentiment_dict)"
   ]
  },
  {
   "cell_type": "code",
   "execution_count": null,
   "id": "51b02833",
   "metadata": {},
   "outputs": [],
   "source": [
    "# Get the least liked player.\n",
    "df_scores = analyze_scores.get_most_least_liked(sentiment_dict, df_sch)\n",
    "analyze_scores.plot_most_diff(df_scores)"
   ]
  },
  {
   "cell_type": "code",
   "execution_count": null,
   "id": "4c01f328",
   "metadata": {},
   "outputs": [],
   "source": [
    "df_all_scores = process_scores.all_scores_get_dataframe(sentiment_dict)\n",
    "analyze_scores.plt_round_three_line_plots(df_all_scores, df_sch)"
   ]
  },
  {
   "cell_type": "code",
   "execution_count": null,
   "id": "4cfe99a5",
   "metadata": {},
   "outputs": [],
   "source": [
    "df_most_neg_team = analyze_scores.team_most_neg_toward(df_all_scores)"
   ]
  },
  {
   "cell_type": "code",
   "execution_count": null,
   "id": "b7bdae7f",
   "metadata": {},
   "outputs": [],
   "source": [
    "df_resp_sent = plot_data_manager.load_sentiment('you', 'nba', 'sent_score')\n",
    "df_sent_twd_user = criticism_nba.create_sent_twd_user(df_all_comments, df_resp_sent)\n",
    "\n"
   ]
  },
  {
   "cell_type": "code",
   "execution_count": null,
   "id": "07a23199",
   "metadata": {
    "scrolled": true
   },
   "outputs": [],
   "source": [
    "sentiment_dict = process_scores.get_sentiment_scores(\n",
    "    plot_data_manager, teams, df_all_comments)"
   ]
  },
  {
   "cell_type": "code",
   "execution_count": null,
   "id": "b0dd441c",
   "metadata": {},
   "outputs": [],
   "source": [
    "print(teams)"
   ]
  },
  {
   "cell_type": "code",
   "execution_count": null,
   "id": "1e6de110",
   "metadata": {},
   "outputs": [],
   "source": [
    "df_plt = criticism_nba.sent_againt_user_after_criticism(teams, df_sent_twd_user, \n",
    "                                               df_resp_sent, df_all_comments)"
   ]
  },
  {
   "cell_type": "code",
   "execution_count": null,
   "id": "a6f3135a",
   "metadata": {},
   "outputs": [],
   "source": [
    "criticism_nba.plot_kde_sent_bef_vs_after_criticism(df_plt)\n",
    "criticism_nba.plot_bar_sent_bef_vs_after_criticism(df_plt)"
   ]
  },
  {
   "cell_type": "code",
   "execution_count": null,
   "id": "d93aad6f",
   "metadata": {},
   "outputs": [],
   "source": [
    "df_plt_all = criticism_nba.sent_againt_team_after_criticism(df_sent_twd_user, df_resp_sent,\n",
    "                                              sentiment_dict, df_all_comments)\n"
   ]
  },
  {
   "cell_type": "code",
   "execution_count": null,
   "id": "4107c6ee",
   "metadata": {},
   "outputs": [],
   "source": [
    "criticism_nba.plot_sent_againt_team_after_criticism(df_plt_all)\n"
   ]
  },
  {
   "cell_type": "code",
   "execution_count": null,
   "id": "b792ccb7",
   "metadata": {},
   "outputs": [],
   "source": [
    "criticism_nba.run_mixed_linear_model_regre(df_plt_all)\n"
   ]
  },
  {
   "cell_type": "code",
   "execution_count": null,
   "id": "e65e0ee9",
   "metadata": {},
   "outputs": [],
   "source": []
  }
 ],
 "metadata": {
  "kernelspec": {
   "display_name": "Python 3 (ipykernel)",
   "language": "python",
   "name": "python3"
  },
  "language_info": {
   "codemirror_mode": {
    "name": "ipython",
    "version": 3
   },
   "file_extension": ".py",
   "mimetype": "text/x-python",
   "name": "python",
   "nbconvert_exporter": "python",
   "pygments_lexer": "ipython3",
   "version": "3.11.5"
  }
 },
 "nbformat": 4,
 "nbformat_minor": 5
}
